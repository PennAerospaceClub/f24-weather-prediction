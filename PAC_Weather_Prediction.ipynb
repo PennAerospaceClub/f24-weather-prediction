{
 "cells": [
  {
   "cell_type": "markdown",
   "metadata": {
    "id": "G9Txyd1oYfU1"
   },
   "source": [
    "This notebook aims to create a Random Forest model that will predict temperature given latitude, longitude, altitude, humidity, pressure.\n",
    "Feel free to use the Google Colab link instead: https://colab.research.google.com/drive/1fLzJgUMWTj6y6gqluc-0-VzuMufthjHB?usp=sharing"
   ]
  },
  {
   "cell_type": "markdown",
   "metadata": {
    "id": "MQuAgpl1Z_2n"
   },
   "source": [
    "# Cleaning the data\n",
    "\n",
    "We will first clean and scale the data. Here, we will:\n",
    "*   drop any unnecessary columns\n",
    "  * including duplicate columns and weather balloon flight data\n",
    "*   seperate our data into features and target variables\n",
    "*   fill in any missing data with the median\n",
    "*   split data for test/train\n",
    "*   scale the data"
   ]
  },
  {
   "cell_type": "code",
   "execution_count": null,
   "metadata": {
    "colab": {
     "base_uri": "https://localhost:8080/"
    },
    "id": "SMjA3tGUY1yA",
    "outputId": "00639fe5-d98b-489b-8849-e081e373738f"
   },
   "outputs": [
    {
     "name": "stderr",
     "output_type": "stream",
     "text": [
      "<ipython-input-10-80f1ac34f0f7>:30: FutureWarning: A value is trying to be set on a copy of a DataFrame or Series through chained assignment using an inplace method.\n",
      "The behavior will change in pandas 3.0. This inplace method will never work because the intermediate object on which we are setting values always behaves as a copy.\n",
      "\n",
      "For example, when doing 'df[col].method(value, inplace=True)', try using 'df.method({col: value}, inplace=True)' or df[col] = df[col].method(value) instead, to perform the operation inplace on the original object.\n",
      "\n",
      "\n",
      "  X['TIME'].fillna(X['TIME'].median(), inplace=True)\n"
     ]
    }
   ],
   "source": [
    "import pandas as pd\n",
    "from sklearn.model_selection import train_test_split\n",
    "from sklearn.ensemble import RandomForestRegressor\n",
    "from sklearn.metrics import mean_absolute_error, mean_squared_error\n",
    "from sklearn.preprocessing import StandardScaler\n",
    "import numpy as np\n",
    "\n",
    "# Load the data\n",
    "file_path = \"/PastLaunchData.csv\"\n",
    "data = pd.read_csv(file_path)\n",
    "\n",
    "# Drop unnecessary columns (like unnamed or duplicated temperature columns)\n",
    "data = data.drop(columns=[\"Unnamed: 1\", \"TEMP.1\", \"EULERX\", \"EULERY\", \"EULERZ\",\n",
    "                          \"COURSE\", \"NUM SATS\", \"VEL DIFF\"], errors='ignore')\n",
    "\n",
    "# Convert all columns to numeric, coercing errors to NaN\n",
    "data = data.apply(pd.to_numeric, errors='coerce')\n",
    "\n",
    "# Fill missing values with the median of each column\n",
    "data.fillna(data.median(), inplace=True)\n",
    "\n",
    "# Separate features and target variable\n",
    "X = data.drop(columns=[\"TEMP\"], errors='ignore')  # Features (exclude TEMP)\n",
    "y = data[\"TEMP\"]  # Target variable (temperature)\n",
    "\n",
    "# Convert TIME column to numeric, handle any non-numeric entries by coercing them to NaN\n",
    "X['TIME'] = pd.to_numeric(X['TIME'], errors='coerce')\n",
    "\n",
    "# Fill NaN values in the TIME column with the median value of the column\n",
    "X['TIME'].fillna(X['TIME'].median(), inplace=True)\n",
    "\n",
    "# Split data into training and testing sets\n",
    "X_train, X_test, y_train, y_test = train_test_split(X, y, test_size=0.2, random_state=42)\n",
    "\n",
    "# Standardize the feature data\n",
    "scaler = StandardScaler()\n",
    "X_train_scaled = scaler.fit_transform(X_train)\n",
    "X_test_scaled = scaler.transform(X_test)"
   ]
  },
  {
   "cell_type": "markdown",
   "metadata": {
    "id": "RAkp33CnbzZW"
   },
   "source": [
    "# Training the Random Forest model\n",
    "In this section, we will use our cleaned data to train a Random Forest model."
   ]
  },
  {
   "cell_type": "code",
   "execution_count": null,
   "metadata": {
    "colab": {
     "base_uri": "https://localhost:8080/"
    },
    "id": "Zac5woRUcHoU",
    "outputId": "4f433132-b86d-47b6-dfd6-1ae11a0fe24f"
   },
   "outputs": [
    {
     "name": "stdout",
     "output_type": "stream",
     "text": [
      "Mean Absolute Error (MAE): 0.02030306391752736\n",
      "Root Mean Squared Error (RMSE): 0.046310774122926994\n"
     ]
    }
   ],
   "source": [
    "# Initialize and train the Random Forest Regressor\n",
    "rf_model = RandomForestRegressor(n_estimators=100, random_state=42)\n",
    "rf_model.fit(X_train_scaled, y_train)\n",
    "\n",
    "# Make predictions on the test set\n",
    "y_pred = rf_model.predict(X_test_scaled)\n",
    "\n",
    "# Evaluate the model's performance\n",
    "mae = mean_absolute_error(y_test, y_pred)\n",
    "rmse = np.sqrt(mean_squared_error(y_test, y_pred))\n",
    "\n",
    "print(\"Mean Absolute Error (MAE):\", mae)\n",
    "print(\"Root Mean Squared Error (RMSE):\", rmse)\n"
   ]
  },
  {
   "cell_type": "markdown",
   "metadata": {
    "id": "zUwvC_aQdPxe"
   },
   "source": [
    "After fitting model to our training data and testing the model on our test dataset, we arrive at a MAE of 0.0203 and RMSE of 0.0463, which is considered accurate."
   ]
  },
  {
   "cell_type": "code",
   "execution_count": null,
   "metadata": {
    "colab": {
     "base_uri": "https://localhost:8080/"
    },
    "id": "YQC7OO56diXP",
    "outputId": "b3cc3adf-aa4c-40cd-88b7-447b58a87bb9"
   },
   "outputs": [
    {
     "name": "stdout",
     "output_type": "stream",
     "text": [
      "Feature Variables:\n",
      "TIME\n",
      "MILLIS\n",
      "latitude (degrees)\n",
      "longitude (degrees)\n",
      "ALT\n",
      "SPEED\n",
      "HUMIDITY\n",
      "ATM DIFF\n",
      "PRESSURE\n",
      "altitude (meters)\n"
     ]
    }
   ],
   "source": [
    "# Print all feature variable names (excluding the target variable \"TEMP\")\n",
    "feature_columns = X.columns.tolist()\n",
    "print(\"Feature Variables:\")\n",
    "for feature in feature_columns:\n",
    "  print(feature)"
   ]
  }
 ],
 "metadata": {
  "colab": {
   "provenance": []
  },
  "kernelspec": {
   "display_name": "Python 3",
   "name": "python3"
  },
  "language_info": {
   "name": "python"
  }
 },
 "nbformat": 4,
 "nbformat_minor": 0
}
